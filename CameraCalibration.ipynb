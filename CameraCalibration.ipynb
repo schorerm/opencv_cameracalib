{
 "cells": [
  {
   "cell_type": "code",
   "execution_count": 1,
   "id": "bc25b1ab",
   "metadata": {},
   "outputs": [],
   "source": [
    "import numpy as np\n",
    "import cv2 as cv\n",
    "import glob\n",
    "%matplotlib inline \n",
    "from matplotlib import pyplot as plt"
   ]
  },
  {
   "cell_type": "code",
   "execution_count": 2,
   "id": "bbf8f39a",
   "metadata": {},
   "outputs": [],
   "source": [
    "# termination criteria\n",
    "criteria = (cv.TERM_CRITERIA_EPS + cv.TERM_CRITERIA_MAX_ITER, 30, 0.001)\n",
    "# prepare object points, like (0,0,0), (1,0,0), (2,0,0) ....,(6,5,0)\n",
    "\n",
    "patternx = 10;\n",
    "patterny = 7\n",
    "objp = np.zeros((patternx*patterny,3), np.float32)\n",
    "objp[:,:2] = np.mgrid[0:patternx,0:patterny].T.reshape(-1,2)\n",
    "# Arrays to store object points and image points from all the images.\n",
    "objpoints = [] # 3d point in real world space\n",
    "imgpoints = [] # 2d points in image plane.\n",
    "images = glob.glob('*.bmp')"
   ]
  },
  {
   "cell_type": "code",
   "execution_count": 3,
   "id": "d4ba4e91",
   "metadata": {},
   "outputs": [],
   "source": [
    "for fname in images:\n",
    "    img = cv.imread(fname)\n",
    "    gray = cv.cvtColor(img, cv.COLOR_BGR2GRAY)\n",
    "    # Find the chess board corners\n",
    "    ret, corners = cv.findChessboardCorners(gray, (10,7), None)\n",
    "    # If found, add object points, image points (after refining them)\n",
    "    if ret == True:\n",
    "        objpoints.append(objp)\n",
    "        corners2 = cv.cornerSubPix(gray,corners, (11,11), (-1,-1), criteria)\n",
    "        imgpoints.append(corners2)\n",
    "        # Draw and display the corners\n",
    "        #cv.drawChessboardCorners(img, (10,7), corners2, ret)\n",
    "        #plt.imshow(img)\n",
    "        #cv.waitKey(500)\n",
    "    if ret == False:\n",
    "        images.remove(fname)\n"
   ]
  },
  {
   "cell_type": "markdown",
   "id": "19eb7e53",
   "metadata": {},
   "source": [
    "## Calculate Distortion Properties"
   ]
  },
  {
   "cell_type": "code",
   "execution_count": 7,
   "id": "d45b6e18",
   "metadata": {},
   "outputs": [],
   "source": [
    "ret, mtx, dist, rvecs, tvecs = cv.calibrateCamera(objpoints, imgpoints, gray.shape[::-1], None, None)"
   ]
  },
  {
   "cell_type": "markdown",
   "id": "f8e3f40d",
   "metadata": {},
   "source": [
    "# Test Single Image Calibration\n"
   ]
  },
  {
   "cell_type": "code",
   "execution_count": 4,
   "id": "b9838aee",
   "metadata": {},
   "outputs": [],
   "source": [
    "#input_image = cv.imread('r_00003.bmp')\n",
    "\n",
    "#rgb_image=cv.cvtColor(input_image, cv.COLOR_BGR2RGB)\n",
    "#gray = cv.cvtColor(input_image, cv.COLOR_BGR2GRAY)\n",
    "#plt.imshow(gray, cmap='gray')"
   ]
  },
  {
   "cell_type": "code",
   "execution_count": 5,
   "id": "5627a829",
   "metadata": {},
   "outputs": [],
   "source": [
    "#ret, corners = cv.findChessboardCorners(gray, (10,7), None)"
   ]
  },
  {
   "cell_type": "code",
   "execution_count": 6,
   "id": "7751e723",
   "metadata": {},
   "outputs": [],
   "source": [
    "#corners2 = cv.cornerSubPix(gray,corners, (11,11), (-1,-1), criteria)\n",
    "# Draw and display the corners\n",
    "#cv.drawChessboardCorners(gray, (10,7), corners2, ret)\n",
    "#plt.imshow(gray, cmap='gray')\n",
    "\n",
    "        "
   ]
  },
  {
   "cell_type": "markdown",
   "id": "986c38aa",
   "metadata": {},
   "source": [
    "# Undistort"
   ]
  },
  {
   "cell_type": "code",
   "execution_count": 8,
   "id": "f1548188",
   "metadata": {},
   "outputs": [],
   "source": [
    "#img = cv.imread('r_00003.bmp')\n",
    "h,  w = img.shape[:2]\n",
    "newcameramtx, roi = cv.getOptimalNewCameraMatrix(mtx, dist, (w,h), 1, (w,h))"
   ]
  },
  {
   "cell_type": "code",
   "execution_count": 9,
   "id": "f3e02978",
   "metadata": {},
   "outputs": [],
   "source": [
    "# undistort\n",
    "#dst = cv.undistort(img, mtx, dist, None, newcameramtx)\n",
    "# crop the image\n",
    "#x, y, w, h = roi\n",
    "#dst = dst[y:y+h, x:x+w]\n",
    "#cv.imwrite('calib/r_00003_calib.png', dst)"
   ]
  },
  {
   "cell_type": "markdown",
   "id": "a871db8d",
   "metadata": {},
   "source": [
    "## Bulk Undistort"
   ]
  },
  {
   "cell_type": "code",
   "execution_count": 14,
   "id": "b7791ea1",
   "metadata": {},
   "outputs": [],
   "source": [
    "images = glob.glob('*.bmp')\n",
    "for fname in images:\n",
    "    img = cv.imread(fname)\n",
    "    # undistort\n",
    "    dst = cv.undistort(img, mtx, dist, None, newcameramtx)\n",
    "    # crop the image\n",
    "    x, y, w, h = roi\n",
    "    dst = dst[y:y+h, x:x+w]\n",
    "    cv.imwrite('calib/' + fname.replace('.bmp','_calib.bmp'), dst)    \n",
    "    #print(fname.replace('.bmp','_calib.bmp'))"
   ]
  },
  {
   "cell_type": "markdown",
   "id": "132f8422",
   "metadata": {},
   "source": [
    "# Re-projection Error\n",
    "\n",
    "Re-projection error gives a good estimation of just how exact the found parameters are. The closer the re-projection error is to zero, the more accurate the parameters we found are. Given the intrinsic, distortion, rotation and translation matrices, we must first transform the object point to image point using cv.projectPoints(). Then, we can calculate the absolute norm between what we got with our transformation and the corner finding algorithm. To find the average error, we calculate the arithmetical mean of the errors calculated for all the calibration images.\n"
   ]
  },
  {
   "cell_type": "code",
   "execution_count": 12,
   "id": "a82db234",
   "metadata": {},
   "outputs": [
    {
     "name": "stdout",
     "output_type": "stream",
     "text": [
      "total error: 0.017142123795271337\n"
     ]
    }
   ],
   "source": [
    "mean_error = 0\n",
    "for i in range(len(objpoints)):\n",
    "    imgpoints2, _ = cv.projectPoints(objpoints[i], rvecs[i], tvecs[i], mtx, dist)\n",
    "    error = cv.norm(imgpoints[i], imgpoints2, cv.NORM_L2)/len(imgpoints2)\n",
    "    mean_error += error\n",
    "print( \"total error: {}\".format(mean_error/len(objpoints)) )"
   ]
  }
 ],
 "metadata": {
  "kernelspec": {
   "display_name": "Python 3 (ipykernel)",
   "language": "python",
   "name": "python3"
  },
  "language_info": {
   "codemirror_mode": {
    "name": "ipython",
    "version": 3
   },
   "file_extension": ".py",
   "mimetype": "text/x-python",
   "name": "python",
   "nbconvert_exporter": "python",
   "pygments_lexer": "ipython3",
   "version": "3.10.13"
  }
 },
 "nbformat": 4,
 "nbformat_minor": 5
}
